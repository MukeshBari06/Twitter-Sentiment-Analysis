{
  "nbformat": 4,
  "nbformat_minor": 0,
  "metadata": {
    "colab": {
      "name": "twitterSA.ipynb",
      "provenance": [],
      "collapsed_sections": [],
      "authorship_tag": "ABX9TyOotn+QSY+uU4mycBsozbhe",
      "include_colab_link": true
    },
    "kernelspec": {
      "display_name": "Python 3",
      "name": "python3"
    },
    "language_info": {
      "name": "python"
    }
  },
  "cells": [
    {
      "cell_type": "markdown",
      "metadata": {
        "id": "view-in-github",
        "colab_type": "text"
      },
      "source": [
        "<a href=\"https://colab.research.google.com/github/TheNaughtyGuy/Twitter-Sentiment-Analysis/blob/main/twitterSA.ipynb\" target=\"_parent\"><img src=\"https://colab.research.google.com/assets/colab-badge.svg\" alt=\"Open In Colab\"/></a>"
      ]
    },
    {
      "cell_type": "markdown",
      "metadata": {
        "id": "CGvd4PehsxmA"
      },
      "source": [
        "#Import required lib"
      ]
    },
    {
      "cell_type": "code",
      "metadata": {
        "id": "eHWqIWWgrN-3"
      },
      "source": [
        "import requests\n",
        "import os\n",
        "import json\n",
        "import re\n",
        "from textblob import TextBlob\n",
        "import matplotlib.pyplot as plt\n"
      ],
      "execution_count": null,
      "outputs": []
    },
    
    {
      "cell_type": "markdown",
      "metadata": {
        "id": "5cU48-JXtgaj"
      },
      "source": [
        "#data input from user"
      ]
    },
    {
      "cell_type": "code",
      "metadata": {
        "colab": {
          "base_uri": "https://localhost:8080/"
        },
        "id": "Rsom5SjDtoeV",
        "outputId": "ba6d8dd2-ebe7-4e14-e651-cf09191adfdf"
      },
      "source": [
        "print(\"Enter the topic for sentiment analysis: \")\n",
        "topic=str(input())"
      ],
      "execution_count": null,
      "outputs": [
        {
          "output_type": "stream",
          "text": [
            "covid\n"
          ],
          "name": "stdout"
        }
      ]
    },
    {
      "cell_type": "markdown",
      "metadata": {
        "id": "q38Knv1Hs2vm"
      },
      "source": [
        "#Authentication & function for rules"
      ]
    },
    {
      "cell_type": "code",
      "metadata": {
        "id": "MYxbK-GyrOA5"
      },
      "source": [
        "def create_headers(bearer_token):\n",
        "    headers = {\"Authorization\": \"Bearer {}\".format(bearer_token)}\n",
        "    return headers"
      ],
      "execution_count": null,
      "outputs": []
    },
    {
      "cell_type": "code",
      "metadata": {
        "id": "8qWvfmourOEi"
      },
      "source": [
        "def get_rules(headers, bearer_token):\n",
        "    response = requests.get(\n",
        "        \"https://api.twitter.com/2/tweets/search/stream/rules\", headers=headers\n",
        "    )\n",
        "    if response.status_code != 200:\n",
        "        raise Exception(\n",
        "            \"Cannot get rules (HTTP {}): {}\".format(response.status_code, response.text)\n",
        "        )\n",
        "    #printf(response.json())\n",
        "    return response.json()"
      ],
      "execution_count": null,
      "outputs": []
    },
    {
      "cell_type": "code",
      "metadata": {
        "id": "8H00GIk1raDf"
      },
      "source": [
        "def delete_all_rules(headers, bearer_token, rules):\n",
        "    if rules is None or \"data\" not in rules:\n",
        "        return None\n",
        "\n",
        "    ids = list(map(lambda rule: rule[\"id\"], rules[\"data\"]))\n",
        "    payload = {\"delete\": {\"ids\": ids}}\n",
        "    response = requests.post(\n",
        "        \"https://api.twitter.com/2/tweets/search/stream/rules\",\n",
        "        headers=headers,\n",
        "        json=payload\n",
        "    )\n",
        "    if response.status_code != 200:\n",
        "        raise Exception(\n",
        "            \"Cannot delete rules (HTTP {}): {}\".format(\n",
        "                response.status_code, response.text\n",
        "            )\n",
        "        )\n",
        "    #printf(response.json())"
      ],
      "execution_count": null,
      "outputs": []
    },
    {
      "cell_type": "code",
      "metadata": {
        "id": "OOp-9if_rbmP"
      },
      "source": [
        "def set_rules(headers, delete, bearer_token):\n",
        "\n",
        "    Value=\"#\"+topic\n",
        "    ### Edit the Value according to the mode of sentiment analysis\n",
        "\n",
        "    ##CORE --- for projects\n",
        "    #from:particular_user \n",
        "    #to:particular_user\n",
        "    #url:\"for particular url\"\n",
        "    #retweets_of:any_username\n",
        "    #bio:\"data engineer\"\n",
        "    #is:verified\t\n",
        "    #lang:en ##hi\n",
        "  \n",
        "    ##ADVANCED ---Available for  Academic Research Project.\n",
        "    #bio_location:delhi\n",
        "    #place:\"new york city\"\n",
        "    #place_country:IN\n",
        "    #point_radius:[longitude latitude radius] ex-point_radius:[2.355128 48.861118 16km]\n",
        "    #bounding_box:[west_long south_lat east_long north_lat] #in particular location boundary\n",
        "\n",
        "    sample_rules = [\n",
        "        {   \n",
        "            \"value\": Value,\n",
        "            \"tag\":  Value\n",
        "\n",
        "        },\n",
        "    ]\n",
        "    payload = {\"add\": sample_rules}\n",
        "    response = requests.post(\n",
        "\n",
        "        \"https://api.twitter.com/2/tweets/search/stream/rules\",\n",
        "        headers=headers,\n",
        "        json=payload,\n",
        "    )\n",
        "    if response.status_code != 201:\n",
        "        raise Exception(\n",
        "            \"Cannot add rules (HTTP {}): {}\".format(response.status_code, response.text)\n",
        "        )\n",
        "    #printf(response.json())"
      ],
      "execution_count": null,
      "outputs": []
    },
    {
      "cell_type": "code",
      "metadata": {
        "id": "cLTYIizsrh44"
      },
      "source": [
        "def get_stream(headers, set, bearer_token):\n",
        "    response = requests.get(\n",
        "        \"https://api.twitter.com/2/tweets/search/stream\", headers=headers, stream=True,\n",
        "    )\n",
        "    print(response.status_code)\n",
        "    if response.status_code != 200:\n",
        "        raise Exception(\n",
        "            \"Cannot get stream (HTTP {}): {}\".format(\n",
        "                response.status_code, response.text\n",
        "            )\n",
        "        )\n",
        "    i=0\n",
        "    for response_line in response.iter_lines():\n",
        "        if response_line:\n",
        "            json_response = json.loads(response_line)\n",
        "            printf(json_response)"
      ],
      "execution_count": null,
      "outputs": []
    },
    {
      "cell_type": "markdown",
      "metadata": {
        "id": "hwZTudulxPHz"
      },
      "source": [
        "#Save dataset in file"
      ]
    },
    {
      "cell_type": "code",
      "metadata": {
        "id": "Nyy-rvgJxRet"
      },
      "source": [
        "def printf(jsonn):\n",
        "    out_txt=topic + \".txt\";\n",
        "    out_file = open(out_txt, \"a\") \n",
        "    out_file.write(str(jsonn.get(\"data\").get(\"text\"))+\"\\n\")\n",
        "    out_file.close() "
      ],
      "execution_count": null,
      "outputs": []
    },
    {
      "cell_type": "markdown",
      "metadata": {
        "id": "eqkb2fbP3LCw"
      },
      "source": [
        "#Data Cleansing "
      ]
    },
    {
      "cell_type": "code",
      "metadata": {
        "id": "hlXU1w0o3KbH"
      },
      "source": [
        "def clean_tweets():\n",
        "    in_txt=topic + \".txt\";\n",
        "    in_file = open(in_txt, \"r\") \n",
        "    Lines = in_file.readlines()\n",
        "    in_file.close()\n",
        "    out_txt=topic + \"_clean.txt\";\n",
        "    out_file = open(out_txt, \"a\") \n",
        "    for tweet in Lines:\n",
        "      out_file.write(' '.join(re.sub(\"(@[A-Za-z0-9]+)|([^0-9A-Za-z \\t])|(\\w+:\\/\\/\\S+)\", \" \", tweet).split())+\"\\n\")\n",
        "    out_file.close() \n"
      ],
      "execution_count": null,
      "outputs": []
    },
    {
      "cell_type": "markdown",
      "metadata": {
        "id": "1dPBIM1cA_LG"
      },
      "source": [
        "#Sentiment of tweet using TextBlob\n",
        "#### textBlob is a python lib used for NLP for sentiment analysis..."
      ]
    },
    {
      "cell_type": "code",
      "metadata": {
        "id": "AXr6O3yJBB8q"
      },
      "source": [
        "def get_tweet_sentiment(tweet):\n",
        "\t\tanalysis = TextBlob(tweet)\n",
        "\t\tif analysis.sentiment.polarity > 0:\n",
        "\t\t\treturn 'positive'\n",
        "\t\telif analysis.sentiment.polarity == 0:\n",
        "\t\t\treturn 'neutral'\n",
        "\t\telse:\n",
        "\t\t\treturn 'negative'"
      ],
      "execution_count": null,
      "outputs": []
    },
    {
      "cell_type": "code",
      "metadata": {
        "id": "PQE-GDSqBaWS"
      },
      "source": [
        "def get_output_count():\n",
        "  in_txt=topic + \"_clean.txt\";\n",
        "  in_file = open(in_txt, \"r\") \n",
        "  Lines = in_file.readlines()\n",
        "  in_file.close()\n",
        "  n=len(Lines)\n",
        "  Positive=0\n",
        "  Neutral=0\n",
        "  Negative=0\n",
        "  for tweet in Lines:\n",
        "      sentiment=get_tweet_sentiment(tweet)\n",
        "      if sentiment=='positive':\n",
        "        Positive=Positive+1\n",
        "      if sentiment=='negative':\n",
        "        Negative=Negative+1\n",
        "      if sentiment=='neutral':\n",
        "        Neutral=Neutral+1\n",
        "  pos=Positive*100/n\n",
        "  neg=Negative*100/n\n",
        "  neu=Neutral*100/n\n",
        "  return [neg,neu,pos]\n"
      ],
      "execution_count": null,
      "outputs": []
    },
    {
      "cell_type": "markdown",
      "metadata": {
        "id": "2Pc1j87Fs90J"
      },
      "source": [
        "#Execution"
      ]
    },
    {
      "cell_type": "code",
      "metadata": {
        "id": "k2bEdDTZrezK"
      },
      "source": [
        "def main():\n",
        "    #bearer_token = os.environ.get(\"BEARER_TOKEN\")\n",
        "    bearer_token=\"AAAAAAAAAAAAAAAAAAAAACiKQQEAAAAATwPNnUFydIJqV4G0GONBSh1wCOA%3D03nPjvXKmPHPOwYOmWkNEjvrxPCEnVQ77rnOkw2q6kZ5HK7odq\"\n",
        "    headers = create_headers(bearer_token)\n",
        "    rules = get_rules(headers, bearer_token)\n",
        "    delete = delete_all_rules(headers, bearer_token, rules)\n",
        "    set = set_rules(headers, delete, bearer_token)\n",
        "\n",
        "    ##0-get_stream\n",
        "    ##1-data cleansing \n",
        "    ##2-output presentation\n",
        "    print(\"Enter 0 for get_stream\")\n",
        "    print(\"Enter 1 for data cleansing\")\n",
        "    print(\"Enter 2 for output presentation\")\n",
        "    i=int(input())\n",
        "    if i==0:\n",
        "      get_stream(headers, set, bearer_token)\n",
        "    else:\n",
        "      if i==1:\n",
        "        clean_tweets()\n",
        "      else:\n",
        "        if i==2:\n",
        "          fig = plt.figure()\n",
        "          ax = fig.add_axes([0,0,1,1])\n",
        "          Sentiment = ['Negative','Neutral','Positive']\n",
        "          percentages = get_output_count()\n",
        "          ax.bar(Sentiment,percentages)\n",
        "          plt.show()\n",
        "        else:\n",
        "          print(\"wrong input\")\n"
      ],
      "execution_count": null,
      "outputs": []
    },
    {
      "cell_type": "code",
      "metadata": {
        "colab": {
          "base_uri": "https://localhost:8080/"
        },
        "id": "AHyWk7mhqtqs",
        "outputId": "422ecc21-5d91-4b46-ff85-53b49d7dd73d"
      },
      "source": [
        "if __name__ == \"__main__\":\n",
        "    main()"
      ],
      "execution_count": null,
      "outputs": [
        {
          "output_type": "stream",
          "text": [
            "0\n",
            "200\n"
          ],
          "name": "stdout"
        }
      ]
    }
  ]
}
